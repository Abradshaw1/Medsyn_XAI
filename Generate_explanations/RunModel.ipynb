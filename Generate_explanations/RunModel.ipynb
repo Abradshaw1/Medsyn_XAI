{
 "cells": [
  {
   "cell_type": "code",
   "execution_count": 1,
   "id": "5d3a0721",
   "metadata": {},
   "outputs": [
    {
     "name": "stderr",
     "output_type": "stream",
     "text": [
      "/home/exouser/miniconda3/envs/medsyn-3-8/lib/python3.8/site-packages/tqdm/auto.py:21: TqdmWarning: IProgress not found. Please update jupyter and ipywidgets. See https://ipywidgets.readthedocs.io/en/stable/user_install.html\n",
      "  from .autonotebook import tqdm as notebook_tqdm\n"
     ]
    }
   ],
   "source": [
    "from extract_text import TextExtractor"
   ]
  },
  {
   "cell_type": "markdown",
   "id": "88dafa64",
   "metadata": {},
   "source": [
    "## Text Extraction"
   ]
  },
  {
   "cell_type": "code",
   "execution_count": 2,
   "id": "97728b07",
   "metadata": {},
   "outputs": [
    {
     "name": "stderr",
     "output_type": "stream",
     "text": [
      "BertForMaskedLM has generative capabilities, as `prepare_inputs_for_generation` is explicitly overwritten. However, it doesn't directly inherit from `GenerationMixin`. From 👉v4.50👈 onwards, `PreTrainedModel` will NOT inherit from `GenerationMixin`, and this model will lose the ability to call `generate` and other related functions.\n",
      "  - If you're using `trust_remote_code=True`, you can get rid of this warning by loading the model with an auto class. See https://huggingface.co/docs/transformers/en/model_doc/auto#auto-classes\n",
      "  - If you are the owner of the model architecture code, please modify your model class such that it inherits from `GenerationMixin` (after `PreTrainedModel`, otherwise you'll get an exception).\n",
      "  - If you are not the owner of the model architecture class, please contact the model code owner to update it.\n",
      "Some weights of CXRBertModel were not initialized from the model checkpoint at microsoft/BiomedVLP-CXR-BERT-specialized and are newly initialized: ['classifier.bias', 'classifier.weight']\n",
      "You should probably TRAIN this model on a down-stream task to be able to use it for predictions and inference.\n",
      "/home/exouser/MedsynBackend/src/extract_text.py:39: FutureWarning: You are using `torch.load` with `weights_only=False` (the current default value), which uses the default pickle module implicitly. It is possible to construct malicious pickle data which will execute arbitrary code during unpickling (See https://github.com/pytorch/pytorch/blob/main/SECURITY.md#untrusted-models for more details). In a future release, the default value for `weights_only` will be flipped to `True`. This limits the functions that could be executed during unpickling. Arbitrary objects will no longer be allowed to be loaded via this mode unless they are explicitly allowlisted by the user via `torch.serialization.add_safe_globals`. We recommend you start setting `weights_only=True` for any use case where you don't have full control of the loaded file. Please open an issue on GitHub for any issues related to this experimental feature.\n",
      "  ckpt = torch.load(self.resume_model+\"/pytorch_model.bin\", map_location=self.device)\n"
     ]
    },
    {
     "name": "stdout",
     "output_type": "stream",
     "text": [
      "<All keys matched successfully>\n",
      "(1, 192, 768)\n",
      "Saved to: /media/volume/gen-ai-volume/MedSyn/results/text_embed/00993322211.npy\n",
      "Saved rokens to: /media/volume/gen-ai-volume/MedSyn/results/text_embed/00993322211_tokens.npy\n"
     ]
    }
   ],
   "source": [
    "impressions=\"Bilateral minimal pleural effusion with no other associated findings, no cardiomegaly, no ground glass, no atelectasis, no nodules, no consolidation\"\n",
    "output_folder = \"/media/volume/gen-ai-volume/MedSyn/results/text_embed\"  \n",
    "file_name='00993322211.npy'\n",
    "text_extractor = TextExtractor(resume_model=\"/media/volume/gen-ai-volume/MedSyn/models/test_run2\")\n",
    "text_extractor.run(impressions, output_folder, file_name)"
   ]
  },
  {
   "cell_type": "markdown",
   "id": "15867e0e",
   "metadata": {},
   "source": [
    "# Low Res\n"
   ]
  },
  {
   "cell_type": "code",
   "execution_count": 3,
   "id": "f7880572",
   "metadata": {},
   "outputs": [
    {
     "name": "stderr",
     "output_type": "stream",
     "text": [
      "/home/exouser/miniconda3/envs/medsyn-3-8/lib/python3.8/site-packages/rotary_embedding_torch/rotary_embedding_torch.py:35: FutureWarning: `torch.cuda.amp.autocast(args...)` is deprecated. Please use `torch.amp.autocast('cuda', args...)` instead.\n",
      "  @autocast(enabled = False)\n",
      "/home/exouser/miniconda3/envs/medsyn-3-8/lib/python3.8/site-packages/rotary_embedding_torch/rotary_embedding_torch.py:254: FutureWarning: `torch.cuda.amp.autocast(args...)` is deprecated. Please use `torch.amp.autocast('cuda', args...)` instead.\n",
      "  @autocast(enabled = False)\n"
     ]
    },
    {
     "ename": "TypeError",
     "evalue": "run_diffusion_1() missing 6 required positional arguments: 'dont_delete_folder', 'attention_folder', 'noise_folder', 'tokenizer', 'read_img_flag', and 'num_series_exists'",
     "output_type": "error",
     "traceback": [
      "\u001b[0;31m---------------------------------------------------------------------------\u001b[0m",
      "\u001b[0;31mTypeError\u001b[0m                                 Traceback (most recent call last)",
      "\u001b[1;32m/home/exouser/MedsynBackend/src/RunModel.ipynb Cell 5\u001b[0m line \u001b[0;36m4\n\u001b[1;32m      <a href='vscode-notebook-cell://ssh-remote%2Bmodelserver/home/exouser/MedsynBackend/src/RunModel.ipynb#W4sdnNjb2RlLXJlbW90ZQ%3D%3D?line=1'>2</a>\u001b[0m \u001b[39mimport\u001b[39;00m \u001b[39maccelerate\u001b[39;00m\n\u001b[1;32m      <a href='vscode-notebook-cell://ssh-remote%2Bmodelserver/home/exouser/MedsynBackend/src/RunModel.ipynb#W4sdnNjb2RlLXJlbW90ZQ%3D%3D?line=2'>3</a>\u001b[0m accelerate\u001b[39m.\u001b[39mstate\u001b[39m.\u001b[39mAcceleratorState\u001b[39m.\u001b[39m_shared_state\u001b[39m.\u001b[39mclear() \u001b[39m# dirty hack to reset accelerator state\u001b[39;00m\n\u001b[0;32m----> <a href='vscode-notebook-cell://ssh-remote%2Bmodelserver/home/exouser/MedsynBackend/src/RunModel.ipynb#W4sdnNjb2RlLXJlbW90ZQ%3D%3D?line=3'>4</a>\u001b[0m run_diffusion_1(input_folder\u001b[39m=\u001b[39;49m\u001b[39m\"\u001b[39;49m\u001b[39m/media/volume/gen-ai-volume/MedSyn/results/text_embed\u001b[39;49m\u001b[39m\"\u001b[39;49m, \u001b[39m#  \"/ocean/projects/cis210093p/wartmann/MedSyn/results/ctrate/text_embed\"\u001b[39;49;00m\n\u001b[1;32m      <a href='vscode-notebook-cell://ssh-remote%2Bmodelserver/home/exouser/MedsynBackend/src/RunModel.ipynb#W4sdnNjb2RlLXJlbW90ZQ%3D%3D?line=4'>5</a>\u001b[0m                 output_folder\u001b[39m=\u001b[39;49m \u001b[39m\"\u001b[39;49m\u001b[39m/media/volume/gen-ai-volume/MedSyn/results/img_64_standard\u001b[39;49m\u001b[39m\"\u001b[39;49m, \u001b[39m# '/ocean/projects/cis210093p/wartmann/MedSyn/results/ctrate/img_64_standard'\u001b[39;49;00m\n\u001b[1;32m      <a href='vscode-notebook-cell://ssh-remote%2Bmodelserver/home/exouser/MedsynBackend/src/RunModel.ipynb#W4sdnNjb2RlLXJlbW90ZQ%3D%3D?line=5'>6</a>\u001b[0m                 model_folder\u001b[39m=\u001b[39;49m\u001b[39m\"\u001b[39;49m\u001b[39m/media/volume/gen-ai-volume/MedSyn/models/stage1\u001b[39;49m\u001b[39m\"\u001b[39;49m, \u001b[39m# '/ocean/projects/cis210093p/wartmann/MedSyn/models/medsyn_params/stage1'\u001b[39;49;00m\n\u001b[1;32m      <a href='vscode-notebook-cell://ssh-remote%2Bmodelserver/home/exouser/MedsynBackend/src/RunModel.ipynb#W4sdnNjb2RlLXJlbW90ZQ%3D%3D?line=6'>7</a>\u001b[0m                 num_sample\u001b[39m=\u001b[39;49m\u001b[39m1\u001b[39;49m)\n",
      "\u001b[0;31mTypeError\u001b[0m: run_diffusion_1() missing 6 required positional arguments: 'dont_delete_folder', 'attention_folder', 'noise_folder', 'tokenizer', 'read_img_flag', and 'num_series_exists'"
     ]
    }
   ],
   "source": [
    "from stage1 import run_diffusion_1\n",
    "import accelerate\n",
    "accelerate.state.AcceleratorState._shared_state.clear() # dirty hack to reset accelerator state\n",
    "run_diffusion_1(input_folder=\"/media/volume/gen-ai-volume/MedSyn/results/text_embed\", #  \"/ocean/projects/cis210093p/wartmann/MedSyn/results/ctrate/text_embed\"\n",
    "                output_folder= \"/media/volume/gen-ai-volume/MedSyn/results/img_64_standard\", # '/ocean/projects/cis210093p/wartmann/MedSyn/results/ctrate/img_64_standard'\n",
    "                model_folder=\"/media/volume/gen-ai-volume/MedSyn/models/stage1\", # '/ocean/projects/cis210093p/wartmann/MedSyn/models/medsyn_params/stage1'\n",
    "                num_sample=1)"
   ]
  },
  {
   "cell_type": "markdown",
   "id": "918fd08a",
   "metadata": {},
   "source": [
    "# High res"
   ]
  },
  {
   "cell_type": "code",
   "execution_count": 5,
   "id": "89a46208",
   "metadata": {},
   "outputs": [
    {
     "name": "stdout",
     "output_type": "stream",
     "text": [
      "Number of parameters: 54307908\n",
      "Map Location: cuda\n",
      "Model path: /media/volume/gen-ai-volume/MedSyn/models/stage2/1000_ckpt/pytorch_model.bin\n"
     ]
    },
    {
     "name": "stderr",
     "output_type": "stream",
     "text": [
      "Loading dataset: 100%|██████████| 4/4 [00:00<00:00, 270.82it/s]\n"
     ]
    },
    {
     "name": "stdout",
     "output_type": "stream",
     "text": [
      "found 4 videos as gif files at /media/volume/gen-ai-volume/MedSyn/results/img_64_standard\n",
      "loading model...\n",
      "Load accelerator state: /media/volume/gen-ai-volume/MedSyn/models/stage2/1000_ckpt\n",
      "training model...\n",
      "num_samples: 1\n",
      "File already exists: /media/volume/gen-ai-volume/MedSyn/results/img_256_standard/dont_delete_sample_0.nii.gz\n",
      "num_samples: 1\n",
      "File already exists: /media/volume/gen-ai-volume/MedSyn/results/img_256_standard/20240708182825Nodulesint_sample_0.nii.gz\n",
      "num_samples: 1\n",
      "High Resolution: 100%|██████████| 21/21 [01:32<00:00,  4.41s/it]\n",
      "num_samples: 1\n",
      "File already exists: /media/volume/gen-ai-volume/MedSyn/results/img_256_standard/20240708182336NoCardiome_sample_0.nii.gz\n"
     ]
    }
   ],
   "source": [
    "from stage2 import run_diffusion_2\n",
    "import accelerate\n",
    "accelerate.state.AcceleratorState._shared_state.clear() # dirty hack to reset accelerator state\n",
    "\n",
    "run_diffusion_2(input_folder=\"/media/volume/gen-ai-volume/MedSyn/results/img_64_standard\", #  '/ocean/projects/cis210093p/wartmann/MedSyn/results/ctrate/img_64_standard'\n",
    "                output_folder=\"/media/volume/gen-ai-volume/MedSyn/results/img_256_standard/\", #  '/ocean/projects/cis210093p/wartmann/MedSyn/results/ctrate/img_256_standard/'\n",
    "                model_folder=\"/media/volume/gen-ai-volume/MedSyn/models/stage2\") #  '/ocean/projects/cis210093p/wartmann/MedSyn/models/medsyn_params/stage2'"
   ]
  }
 ],
 "metadata": {
  "kernelspec": {
   "display_name": "medsyn-backend",
   "language": "python",
   "name": "python3"
  },
  "language_info": {
   "codemirror_mode": {
    "name": "ipython",
    "version": 3
   },
   "file_extension": ".py",
   "mimetype": "text/x-python",
   "name": "python",
   "nbconvert_exporter": "python",
   "pygments_lexer": "ipython3",
   "version": "3.8.19"
  }
 },
 "nbformat": 4,
 "nbformat_minor": 5
}
